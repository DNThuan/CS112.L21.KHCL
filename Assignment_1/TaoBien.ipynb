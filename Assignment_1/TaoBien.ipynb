{
  "nbformat": 4,
  "nbformat_minor": 0,
  "metadata": {
    "colab": {
      "name": "TaoBien.ipynb",
      "provenance": [],
      "collapsed_sections": [],
      "authorship_tag": "ABX9TyMgyp1THelsu4ppbfUT64E/",
      "include_colab_link": true
    },
    "kernelspec": {
      "name": "python3",
      "display_name": "Python 3"
    },
    "language_info": {
      "name": "python"
    }
  },
  "cells": [
    {
      "cell_type": "markdown",
      "metadata": {
        "id": "view-in-github",
        "colab_type": "text"
      },
      "source": [
        "<a href=\"https://colab.research.google.com/github/DNThuan/CS112.L21.KHCL/blob/main/TaoBien.ipynb\" target=\"_parent\"><img src=\"https://colab.research.google.com/assets/colab-badge.svg\" alt=\"Open In Colab\"/></a>"
      ]
    },
    {
      "cell_type": "markdown",
      "metadata": {
        "id": "1lyMNUvvQyw_"
      },
      "source": [
        "# 1.Abstraction\n",
        "- Số tảo biển tuân theo dãy Fibonanci(2xk+1) với k là số ngày sinh sản phát triển đối với mỗi cây tảo."
      ]
    },
    {
      "cell_type": "markdown",
      "metadata": {
        "id": "SJqSLKX6QyzQ"
      },
      "source": [
        "# 2.Pattern Recognition\n",
        "- Thuộc dạng bài toán huy hoạch động\n",
        "\n"
      ]
    },
    {
      "cell_type": "markdown",
      "metadata": {
        "id": "3DuJ21C2Qy1e"
      },
      "source": [
        "# 3.\tAlgorithm\n",
        "\n",
        "\n",
        "```\n",
        "n,k=input\n",
        "func Fibonancci(a){\n",
        "    if n==1 or n==2\n",
        "      return 1\n",
        "    else\n",
        "      a=1\n",
        "      b=1\n",
        "      c=0\n",
        "      for i=3 to a\n",
        "        c=a+b\n",
        "        a=b\n",
        "        b=c\n",
        "    return c\n",
        "}\n",
        "\n",
        "result = n*Fibonancci(2*k+1)\n",
        "```\n",
        "\n",
        "\n"
      ]
    },
    {
      "cell_type": "markdown",
      "metadata": {
        "id": "O3Xy0y-lQy3b"
      },
      "source": [
        "# 4.\tĐánh giá độ phức tạp\n",
        "- Độ phức tạp của bài toán là O(n)"
      ]
    },
    {
      "cell_type": "markdown",
      "metadata": {
        "id": "nPfnntCeQy5d"
      },
      "source": [
        "# 5.Programming"
      ]
    },
    {
      "cell_type": "code",
      "metadata": {
        "colab": {
          "base_uri": "https://localhost:8080/"
        },
        "id": "lYG1iAqvRF_N",
        "outputId": "a14cd6b1-027f-468c-d8c4-76bb2f5af556"
      },
      "source": [
        "def Fibonancci(n):\n",
        "  if n == 1 or n == 2:\n",
        "    return 1\n",
        "  else:\n",
        "    a=1\n",
        "    b=1\n",
        "    c=0\n",
        "    for i in range(3,n+1) :\n",
        "      c=a+b\n",
        "      a=b\n",
        "      b=c\n",
        "  return c\n",
        "n,k=map(int,input().split())\n",
        "print(n*Fibonancci(2*k+1)%(pow(10,9)+7))"
      ],
      "execution_count": 1,
      "outputs": [
        {
          "output_type": "stream",
          "text": [
            "1 10\n",
            "10946\n"
          ],
          "name": "stdout"
        }
      ]
    }
  ]
}