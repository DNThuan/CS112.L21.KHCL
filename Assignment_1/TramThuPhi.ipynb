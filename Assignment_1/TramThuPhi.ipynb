{
  "nbformat": 4,
  "nbformat_minor": 0,
  "metadata": {
    "colab": {
      "name": "TramThuPhi.ipynb",
      "provenance": [],
      "collapsed_sections": [],
      "authorship_tag": "ABX9TyMhxWWg4AJaQcWAM5TGzBDh",
      "include_colab_link": true
    },
    "kernelspec": {
      "name": "python3",
      "display_name": "Python 3"
    },
    "language_info": {
      "name": "python"
    }
  },
  "cells": [
    {
      "cell_type": "markdown",
      "metadata": {
        "id": "view-in-github",
        "colab_type": "text"
      },
      "source": [
        "<a href=\"https://colab.research.google.com/github/DNThuan/CS112.L21.KHCL/blob/main/TramThuPhi.ipynb\" target=\"_parent\"><img src=\"https://colab.research.google.com/assets/colab-badge.svg\" alt=\"Open In Colab\"/></a>"
      ]
    },
    {
      "cell_type": "markdown",
      "metadata": {
        "id": "iOfvdL3MJUev"
      },
      "source": [
        "# 1.Abstraction\n",
        "- Từ mảng nhập vào, tìm mảng con có tổng lớn nhất\n",
        "và vị trí của mảng con đó.\n",
        "\n"
      ]
    },
    {
      "cell_type": "markdown",
      "metadata": {
        "id": "wgD9VPSLNSLV"
      },
      "source": [
        "# 2.Pattern Recognition\n",
        "- Thuật toán này tính toán dựa trên cấu trúc con tối ưu nên thuật toán này thuộc dạng bài toán quy hoạch động."
      ]
    },
    {
      "cell_type": "markdown",
      "metadata": {
        "id": "dCNe2NH3Osv1"
      },
      "source": [
        "# 3.Algorithm\n",
        "\n",
        "```\n",
        "F_max = max = a[0]\n",
        "For i < n:\n",
        "       If (a[i] > F_max+a[i]):\n",
        "              F_max = a[i]\n",
        "               x = i\n",
        "       else:\n",
        "             F_max = F_max + a[i]\n",
        "       If (F_max > max):\n",
        "              max = F_max\n",
        "               y = i\n",
        "       else:\n",
        "              max = max\n",
        "\n",
        "```\n",
        "\n",
        "\n"
      ]
    },
    {
      "cell_type": "markdown",
      "metadata": {
        "id": "XNjGbd1YOxp4"
      },
      "source": [
        "# 4.Đánh giá độ phức tạp\n",
        "- Thuật toán có độ phức tạp là O(n)"
      ]
    },
    {
      "cell_type": "markdown",
      "metadata": {
        "id": "C09u8lyhO4Oq"
      },
      "source": [
        "# 5.Programming\n"
      ]
    },
    {
      "cell_type": "code",
      "metadata": {
        "id": "3Brnjop6w7d9"
      },
      "source": [
        "def sum_subarray(seqs):\n",
        "\n",
        "  max_sum_current = 0\n",
        "\n",
        "  max_sum_end = 0\n",
        "\n",
        "  start_index = 0\n",
        "\n",
        "  start_temp = -1\n",
        "\n",
        "  ending_index = 0\n",
        "\n",
        "  for i in range(len(seqs)):\n",
        "  \n",
        "    max_sum_end += seqs[i]\n",
        "    if (max_sum_end < 0):\n",
        "      max_sum_end = 0\n",
        "      start_temp = -1\n",
        "    else:\n",
        "      if start_temp == -1:\n",
        "        start_temp = i\n",
        "      if max_sum_current < max_sum_end:\n",
        "        max_sum_current = max_sum_end\n",
        "        start_index = start_temp\n",
        "        ending_index = i\n",
        "  return start_index+1, ending_index+1, max_sum_current\n",
        "\n",
        "n = input()\n",
        "\n",
        "n = int(n)\n",
        "\n",
        "a = list(map(int, input().split())) \n",
        "\n",
        "start,stop,profit = sum_subarray(a)\n",
        "print(start,stop,profit)"
      ],
      "execution_count": null,
      "outputs": []
    }
  ]
}