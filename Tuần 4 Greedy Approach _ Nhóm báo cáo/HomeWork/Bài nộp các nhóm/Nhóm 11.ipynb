{
  "nbformat": 4,
  "nbformat_minor": 0,
  "metadata": {
    "colab": {
      "name": "Knapsack_Problem.ipynb",
      "provenance": [],
      "collapsed_sections": []
    },
    "kernelspec": {
      "name": "python3",
      "display_name": "Python 3"
    },
    "language_info": {
      "name": "python"
    }
  },
  "cells": [
    {
      "cell_type": "code",
      "metadata": {
        "id": "osKZ_YMIrykF",
        "colab": {
          "base_uri": "https://localhost:8080/"
        },
        "outputId": "5eb31d9f-a902-43f2-fa04-03c5a89b02de"
      },
      "source": [
        "n = int(input())\n",
        "value = list(map(int, input().strip().split()))[:n]\n",
        "weight = list(map(int, input().strip().split()))[:n]\n",
        "k = int(input())\n",
        "\n",
        "remaining_weight = k\n",
        "bag_value = 0\n",
        "\n",
        "def divide(item):\n",
        "    return item[0]/item[1]\n",
        "\n",
        "for i in range(0,n):\n",
        "    x[i]=(value[i], weight[i])\n",
        "sorted_x = sorted(x, key= divide)\n",
        "\n",
        "for i in range(0,n):\n",
        "  value[i], weight[i] = sorted_x[i]\n",
        "  if (weight[i] <= remaining_weight):\n",
        "    remaining_weight -= weight[i]\n",
        "    bag_value += value[i]\n",
        "\n",
        "print(bag_value)\n"
      ],
      "execution_count": 24,
      "outputs": [
        {
          "output_type": "stream",
          "text": [
            "3\n",
            "2 1 3\n",
            "5 4 6\n",
            "10\n",
            "3\n"
          ],
          "name": "stdout"
        }
      ]
    }
  ]
}