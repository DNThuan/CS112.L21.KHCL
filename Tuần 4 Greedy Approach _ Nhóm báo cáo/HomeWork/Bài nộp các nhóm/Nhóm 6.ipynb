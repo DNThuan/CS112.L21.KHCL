{
  "nbformat": 4,
  "nbformat_minor": 0,
  "metadata": {
    "colab": {
      "name": "Knapsack",
      "provenance": []
    },
    "kernelspec": {
      "name": "python3",
      "display_name": "Python 3"
    }
  },
  "cells": [
    {
      "cell_type": "markdown",
      "metadata": {
        "id": "vfup5OprIu0J"
      },
      "source": [
        "**CS112.K21.KHCL.N06**\n",
        "\n",
        "**Câu hỏi thầy giao:**\n",
        "> 1. Hàm khả thi là gì?\n",
        "> 2. Tại sao phải sử dụng hàm khả thi trong Greedy Aproach?\n",
        "> 3. Không có hàm khả thi thì có thể áp dụng được phương pháp Greedy hay không?"
      ]
    },
    {
      "cell_type": "code",
      "metadata": {
        "colab": {
          "base_uri": "https://localhost:8080/"
        },
        "id": "uox2QFnsbblm",
        "outputId": "98402c17-6df5-422d-beb3-d41cca5c34b3"
      },
      "source": [
        "def knapSack(W, wt, val, n):\n",
        " \n",
        "    if n == 0 or W == 0:\n",
        "        return 0\n",
        "\n",
        "    if (wt[n-1] > W):\n",
        "        return knapSack(W, wt, val, n-1)\n",
        "\n",
        "    else:\n",
        "        return max(\n",
        "            val[n-1] + knapSack(\n",
        "                W-wt[n-1], wt, val, n-1),\n",
        "            knapSack(W, wt, val, n-1))\n",
        "        \n",
        "n = int(input())\n",
        "val = list(map(int,input().split()))\n",
        "w = list(map(int,input().split()))\n",
        "bag = int(input())\n",
        "\n",
        "print(knapSack(bag,w,val,n))"
      ],
      "execution_count": 3,
      "outputs": [
        {
          "output_type": "stream",
          "text": [
            "3\n",
            "60 100 120\n",
            "10 20 30\n",
            "50\n",
            "220\n"
          ],
          "name": "stdout"
        }
      ]
    }
  ]
}